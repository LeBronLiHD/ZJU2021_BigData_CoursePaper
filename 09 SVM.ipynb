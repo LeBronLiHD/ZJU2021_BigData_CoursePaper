{
 "cells": [
  {
   "cell_type": "code",
   "execution_count": 1,
   "metadata": {
    "tags": []
   },
   "outputs": [],
   "source": [
    "import math\n",
    "import numpy as np\n",
    "import pandas as pd\n",
    "from datetime import datetime\n",
    "\n",
    "import seaborn as sns\n",
    "import matplotlib.pyplot as plt\n",
    "%matplotlib inline \n",
    "plt.style.use('seaborn-whitegrid')\n",
    "\n",
    "from sklearn.svm import SVC\n",
    "from sklearn.metrics import classification_report\n",
    "from sklearn.metrics import confusion_matrix"
   ]
  },
  {
   "cell_type": "markdown",
   "metadata": {
    "tags": []
   },
   "source": [
    "# Get the Data"
   ]
  },
  {
   "cell_type": "code",
   "execution_count": 2,
   "metadata": {
    "tags": []
   },
   "outputs": [
    {
     "name": "stdout",
     "output_type": "stream",
     "text": [
      "<class 'pandas.core.frame.DataFrame'>\n",
      "RangeIndex: 48842 entries, 0 to 48841\n",
      "Data columns (total 11 columns):\n",
      " #   Column              Non-Null Count  Dtype \n",
      "---  ------              --------------  ----- \n",
      " 0   hours_per_week_bin  48842 non-null  object\n",
      " 1   occupation_bin      48842 non-null  object\n",
      " 2   msr_bin             48842 non-null  object\n",
      " 3   capital_gl_bin      48842 non-null  object\n",
      " 4   race_sex_bin        48842 non-null  object\n",
      " 5   education_num_bin   48842 non-null  object\n",
      " 6   education_bin       48842 non-null  object\n",
      " 7   workclass_bin       48842 non-null  object\n",
      " 8   age_bin             48842 non-null  object\n",
      " 9   flag                48842 non-null  object\n",
      " 10  y                   48842 non-null  int64 \n",
      "dtypes: int64(1), object(10)\n",
      "memory usage: 4.1+ MB\n"
     ]
    }
   ],
   "source": [
    "df = pd.read_csv('00 data.csv')\n",
    "train = df[df['flag']=='train']\n",
    "test = df[df['flag']=='test']\n",
    "df.info()"
   ]
  },
  {
   "cell_type": "code",
   "execution_count": 3,
   "metadata": {
    "tags": []
   },
   "outputs": [],
   "source": [
    "cat_feats = ['age_bin','capital_gl_bin','education_bin','hours_per_week_bin','msr_bin','occupation_bin','race_sex_bin']\n",
    "\n",
    "y_train = train['y']\n",
    "x_train = train[['age_bin','capital_gl_bin','education_bin','hours_per_week_bin','msr_bin','occupation_bin','race_sex_bin']]\n",
    "x_train = pd.get_dummies(x_train,columns=cat_feats,drop_first=True)\n",
    "\n",
    "y_test = test['y']\n",
    "x_test = test[['age_bin','capital_gl_bin','education_bin','hours_per_week_bin','msr_bin','occupation_bin','race_sex_bin']]\n",
    "x_test = pd.get_dummies(x_test,columns=cat_feats,drop_first=True)"
   ]
  },
  {
   "cell_type": "markdown",
   "metadata": {},
   "source": [
    "# Support Vector Machine"
   ]
  },
  {
   "cell_type": "code",
   "execution_count": 4,
   "metadata": {},
   "outputs": [],
   "source": [
    "svm =  SVC(kernel=\"rbf\", C=0.025,random_state=101)\n",
    "svm.fit(x_train, y_train)\n",
    "y_pred=svm.predict(x_test)"
   ]
  },
  {
   "cell_type": "code",
   "execution_count": 5,
   "metadata": {},
   "outputs": [
    {
     "name": "stdout",
     "output_type": "stream",
     "text": [
      "[[9283  529]\n",
      " [1573 1458]]\n",
      "accuracy: 0.8363310752939345\n",
      "precision: 0.7337695017614494\n",
      "recall: 0.4810293632464533\n",
      "f1 score:  0.5811080111598246\n"
     ]
    }
   ],
   "source": [
    "test_calc = pd.concat([pd.DataFrame(y_test).reset_index(drop=True),pd.DataFrame(y_pred).reset_index(drop=True)],axis=1)\n",
    "test_calc.rename(columns={0: 'predicted'}, inplace=True)\n",
    "\n",
    "test_calc['predicted'] = test_calc['predicted'].apply(lambda x: 1 if x > 0.5 else 0)\n",
    "df_table = confusion_matrix(test_calc['y'],test_calc['predicted'])\n",
    "print (df_table)\n",
    "\n",
    "print('accuracy:', (df_table[0,0] + df_table[1,1]) / (df_table[0,0] + df_table[0,1] + df_table[1,0] + df_table[1,1]))\n",
    "print ('precision:', df_table[1,1] / (df_table[1,1] + df_table[0,1]))\n",
    "print('recall:', df_table[1,1] / (df_table[1,1] + df_table[1,0]))\n",
    "\n",
    "p = df_table[1,1] / (df_table[1,1] + df_table[0,1])\n",
    "r = df_table[1,1] / (df_table[1,1] + df_table[1,0])\n",
    "print('f1 score: ', (2*p*r)/(p+r))"
   ]
  }
 ],
 "metadata": {
  "kernelspec": {
   "display_name": "Python 3 (ipykernel)",
   "language": "python",
   "name": "python3"
  },
  "language_info": {
   "codemirror_mode": {
    "name": "ipython",
    "version": 3
   },
   "file_extension": ".py",
   "mimetype": "text/x-python",
   "name": "python",
   "nbconvert_exporter": "python",
   "pygments_lexer": "ipython3",
   "version": "3.9.7"
  }
 },
 "nbformat": 4,
 "nbformat_minor": 4
}
